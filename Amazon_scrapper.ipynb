{
  "nbformat": 4,
  "nbformat_minor": 0,
  "metadata": {
    "colab": {
      "name": "Amazon_scrapper.ipynb",
      "provenance": [],
      "collapsed_sections": []
    },
    "kernelspec": {
      "name": "python3",
      "display_name": "Python 3"
    }
  },
  "cells": [
    {
      "cell_type": "code",
      "metadata": {
        "id": "c6KEPxzinGaK",
        "colab_type": "code",
        "colab": {}
      },
      "source": [
        "import gspread_dataframe as gd"
      ],
      "execution_count": 148,
      "outputs": []
    },
    {
      "cell_type": "code",
      "metadata": {
        "id": "trNZhuyAxvds",
        "colab_type": "code",
        "colab": {}
      },
      "source": [
        "from google.colab import auth\n",
        "auth.authenticate_user()\n",
        "\n",
        "import gspread\n",
        "from oauth2client.client import GoogleCredentials\n",
        "\n",
        "gc = gspread.authorize(GoogleCredentials.get_application_default())"
      ],
      "execution_count": 149,
      "outputs": []
    },
    {
      "cell_type": "code",
      "metadata": {
        "id": "fnjoGZX0w5iv",
        "colab_type": "code",
        "colab": {}
      },
      "source": [
        "#opening the google spreadsheet\n",
        "ws = gc.open(\"Copy of Fetch Amazon Prices\").sheet1"
      ],
      "execution_count": 150,
      "outputs": []
    },
    {
      "cell_type": "code",
      "metadata": {
        "id": "U9JKApm-xXgC",
        "colab_type": "code",
        "colab": {}
      },
      "source": [
        "#google spreadsheet to dataframe\n",
        "existing = gd.get_as_dataframe(ws)"
      ],
      "execution_count": 151,
      "outputs": []
    },
    {
      "cell_type": "code",
      "metadata": {
        "id": "d4an9LP2yHyd",
        "colab_type": "code",
        "colab": {
          "base_uri": "https://localhost:8080/",
          "height": 235
        },
        "outputId": "d0fb68e5-c08f-433b-c4ca-43fc447991bd"
      },
      "source": [
        "import requests\n",
        "from bs4 import BeautifulSoup\n",
        "import datetime as dt\n",
        "list4 = []\n",
        "for i in  range(0,10):\n",
        "    \n",
        "    list3 = []\n",
        "    URL = existing['Product URL'][i]\n",
        "\n",
        "    headers = {\"User-Agent\":'Mozilla/5.0 (Windows NT 10.0; Win64; x64) AppleWebKit/537.36 (KHTML, like Gecko) Chrome/84.0.4147.89 Safari/537.36'}\n",
        "\n",
        "\n",
        "    page = requests.get(URL,headers=headers)\n",
        "\n",
        "    soup = BeautifulSoup(page.content,'html.parser')\n",
        "\n",
        "    #checking using soup.find(),which id is present for particular product as for the given data there are 4types of id : #priceblock_dealprice,#priceblock_ourprice,#priceblock_saleprice and #mbc-price-1\n",
        "    if(soup.find(id=\"priceblock_dealprice\")):\n",
        "      price = soup.find(id=\"priceblock_dealprice\").get_text()\n",
        "      \n",
        "    elif(soup.find(id=\"priceblock_ourprice\")):\n",
        "      price = soup.find(id=\"priceblock_ourprice\").get_text()\n",
        "      \n",
        "    elif(soup.find(id=\"mbc-price-1\")):\n",
        "      price = soup.find(id=\"mbc-price-1\").get_text()\n",
        "      price = str(price)[1:-1]\n",
        "      \n",
        "    else:\n",
        "      price = soup.find(id=\"priceblock_saleprice\").get_text()\n",
        "      \n",
        "    \n",
        "    existing['Price of Product'][i] = price\n",
        "    #date of fetching\n",
        "    existing['Date of Fetching'][i] = dt.datetime.today().strftime(\"%m/%d/%Y\")\n"
      ],
      "execution_count": 152,
      "outputs": [
        {
          "output_type": "stream",
          "text": [
            "/usr/local/lib/python3.6/dist-packages/ipykernel_launcher.py:32: SettingWithCopyWarning: \n",
            "A value is trying to be set on a copy of a slice from a DataFrame\n",
            "\n",
            "See the caveats in the documentation: https://pandas.pydata.org/pandas-docs/stable/user_guide/indexing.html#returning-a-view-versus-a-copy\n",
            "/usr/local/lib/python3.6/dist-packages/pandas/core/indexing.py:671: SettingWithCopyWarning: \n",
            "A value is trying to be set on a copy of a slice from a DataFrame\n",
            "\n",
            "See the caveats in the documentation: https://pandas.pydata.org/pandas-docs/stable/user_guide/indexing.html#returning-a-view-versus-a-copy\n",
            "  self._setitem_with_indexer(indexer, value)\n",
            "/usr/local/lib/python3.6/dist-packages/ipykernel_launcher.py:34: SettingWithCopyWarning: \n",
            "A value is trying to be set on a copy of a slice from a DataFrame\n",
            "\n",
            "See the caveats in the documentation: https://pandas.pydata.org/pandas-docs/stable/user_guide/indexing.html#returning-a-view-versus-a-copy\n"
          ],
          "name": "stderr"
        }
      ]
    },
    {
      "cell_type": "code",
      "metadata": {
        "id": "p6eQ387F4GWd",
        "colab_type": "code",
        "colab": {}
      },
      "source": [
        "existing.drop(existing.columns[existing.columns.str.contains('unnamed',case = False)],axis = 1, inplace = True)"
      ],
      "execution_count": 153,
      "outputs": []
    },
    {
      "cell_type": "code",
      "metadata": {
        "id": "Morf4w6-6f6c",
        "colab_type": "code",
        "colab": {
          "base_uri": "https://localhost:8080/",
          "height": 402
        },
        "outputId": "82186487-c1f0-4181-e5d2-a1f15f45276d"
      },
      "source": [
        "existing"
      ],
      "execution_count": 154,
      "outputs": [
        {
          "output_type": "execute_result",
          "data": {
            "text/html": [
              "<div>\n",
              "<style scoped>\n",
              "    .dataframe tbody tr th:only-of-type {\n",
              "        vertical-align: middle;\n",
              "    }\n",
              "\n",
              "    .dataframe tbody tr th {\n",
              "        vertical-align: top;\n",
              "    }\n",
              "\n",
              "    .dataframe thead th {\n",
              "        text-align: right;\n",
              "    }\n",
              "</style>\n",
              "<table border=\"1\" class=\"dataframe\">\n",
              "  <thead>\n",
              "    <tr style=\"text-align: right;\">\n",
              "      <th></th>\n",
              "      <th>Date of Fetching</th>\n",
              "      <th>Product URL</th>\n",
              "      <th>Price of Product</th>\n",
              "    </tr>\n",
              "  </thead>\n",
              "  <tbody>\n",
              "    <tr>\n",
              "      <th>0</th>\n",
              "      <td>07/24/2020</td>\n",
              "      <td>https://www.amazon.in/Apple-iPhone-11-128GB-Wh...</td>\n",
              "      <td>₹ 69,600.00</td>\n",
              "    </tr>\n",
              "    <tr>\n",
              "      <th>1</th>\n",
              "      <td>07/24/2020</td>\n",
              "      <td>https://www.amazon.in/Grand-Theft-V-Premium-PS...</td>\n",
              "      <td>1,599.00</td>\n",
              "    </tr>\n",
              "    <tr>\n",
              "      <th>2</th>\n",
              "      <td>07/24/2020</td>\n",
              "      <td>https://www.amazon.in/Russell-Hobbs-RIC1400X-I...</td>\n",
              "      <td>₹ 2,399.00</td>\n",
              "    </tr>\n",
              "    <tr>\n",
              "      <th>3</th>\n",
              "      <td>07/24/2020</td>\n",
              "      <td>https://www.amazon.in/dp/B07NJRTCN9</td>\n",
              "      <td>₹ 4,699.00</td>\n",
              "    </tr>\n",
              "    <tr>\n",
              "      <th>4</th>\n",
              "      <td>07/24/2020</td>\n",
              "      <td>https://www.amazon.in/dp/B07W6T8H5P</td>\n",
              "      <td>₹ 10,499.00</td>\n",
              "    </tr>\n",
              "    <tr>\n",
              "      <th>...</th>\n",
              "      <td>...</td>\n",
              "      <td>...</td>\n",
              "      <td>...</td>\n",
              "    </tr>\n",
              "    <tr>\n",
              "      <th>994</th>\n",
              "      <td>NaN</td>\n",
              "      <td>NaN</td>\n",
              "      <td>NaN</td>\n",
              "    </tr>\n",
              "    <tr>\n",
              "      <th>995</th>\n",
              "      <td>NaN</td>\n",
              "      <td>NaN</td>\n",
              "      <td>NaN</td>\n",
              "    </tr>\n",
              "    <tr>\n",
              "      <th>996</th>\n",
              "      <td>NaN</td>\n",
              "      <td>NaN</td>\n",
              "      <td>NaN</td>\n",
              "    </tr>\n",
              "    <tr>\n",
              "      <th>997</th>\n",
              "      <td>NaN</td>\n",
              "      <td>NaN</td>\n",
              "      <td>NaN</td>\n",
              "    </tr>\n",
              "    <tr>\n",
              "      <th>998</th>\n",
              "      <td>NaN</td>\n",
              "      <td>NaN</td>\n",
              "      <td>NaN</td>\n",
              "    </tr>\n",
              "  </tbody>\n",
              "</table>\n",
              "<p>999 rows × 3 columns</p>\n",
              "</div>"
            ],
            "text/plain": [
              "    Date of Fetching  ... Price of Product\n",
              "0         07/24/2020  ...      ₹ 69,600.00\n",
              "1         07/24/2020  ...         1,599.00\n",
              "2         07/24/2020  ...       ₹ 2,399.00\n",
              "3         07/24/2020  ...       ₹ 4,699.00\n",
              "4         07/24/2020  ...      ₹ 10,499.00\n",
              "..               ...  ...              ...\n",
              "994              NaN  ...              NaN\n",
              "995              NaN  ...              NaN\n",
              "996              NaN  ...              NaN\n",
              "997              NaN  ...              NaN\n",
              "998              NaN  ...              NaN\n",
              "\n",
              "[999 rows x 3 columns]"
            ]
          },
          "metadata": {
            "tags": []
          },
          "execution_count": 154
        }
      ]
    },
    {
      "cell_type": "code",
      "metadata": {
        "id": "D0uMpgQ36y_B",
        "colab_type": "code",
        "colab": {}
      },
      "source": [
        "#appending google sheet with the new values\n",
        "gd.set_with_dataframe(ws,existing)"
      ],
      "execution_count": 155,
      "outputs": []
    },
    {
      "cell_type": "code",
      "metadata": {
        "id": "o-Kd5-k-7fZA",
        "colab_type": "code",
        "colab": {}
      },
      "source": [
        ""
      ],
      "execution_count": null,
      "outputs": []
    }
  ]
}